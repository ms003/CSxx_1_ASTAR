{
  "cells": [
    {
      "cell_type": "code",
      "execution_count": 1,
      "metadata": {
        "scrolled": true,
        "colab": {
          "base_uri": "https://localhost:8080/"
        },
        "id": "YKwRK7PiJtR5",
        "outputId": "0b604fe0-f051-45ce-def6-9765f946863b"
      },
      "outputs": [
        {
          "output_type": "stream",
          "name": "stdout",
          "text": [
            "Current node S\n",
            "The Next possible states of the current state S are ['A', 'B', 'D']\n",
            "AGENDA {'B': 9, 'D': 10, 'A': 12}\n",
            "Current node B\n",
            "The Next possible states of the current state B are ['A', 'C']\n",
            "AGENDA {'D': 10, 'A': 12, 'C': 13}\n",
            "Current node D\n",
            "The Next possible states of the current state D are ['C', 'E']\n",
            "AGENDA {'A': 12, 'C': 13, 'E': 15}\n",
            "Current node A\n",
            "The Next possible states of the current state A are ['G1', 'B']\n",
            "AGENDA {'C': 13, 'E': 15, 'G1': 17}\n",
            "Current node C\n",
            "The Next possible states of the current state C are ['S', 'F', 'H']\n",
            "AGENDA {'F': 14, 'E': 15, 'G1': 17, 'H': 19}\n",
            "Current node F\n",
            "The Next possible states of the current state F are ['B', 'G1']\n",
            "AGENDA {'E': 15, 'G1': 17, 'H': 19}\n",
            "Current node E\n",
            "The Next possible states of the current state E are ['S', 'G2']\n",
            "AGENDA {'G2': 13, 'G1': 17, 'H': 19}\n",
            "Current node G2\n",
            "Found the goal G2!! with total path cost 13\n",
            "The path to the goal is {'G2': 13, 'E': 15, 'D': 10, 'S': 6}\n",
            "Visited state {'S': 6, 'B': 9, 'D': 10, 'A': 12, 'C': 13, 'F': 14, 'E': 15, 'G2': 13}\n"
          ]
        }
      ],
      "source": [
        "\n",
        "#Maria Kalantzaki \n",
        "\n",
        "#state representation [Node , Heuristic value]\n",
        "initial_state = {\"S\" : 6}\n",
        "# Final states is the two possible goals in the graph (G1,G2)\n",
        "Final_states = [\"G1\",\"G2\"] \n",
        "#graph of possible actions from each state:\n",
        "graph = { \"S\" : [\"A\", \"B\", \"D\"], #Define the Node 'S' and the neighbors nodes (A, B and D)\n",
        "          \"A\" : [\"G1\", \"B\"],     #Define the Node 'A' and the neighbors nodes (B and G1)\n",
        "          \"B\" : [\"A\", \"C\"],      #Define the Node 'B' and the neighbors nodes (A, C)\n",
        "          \"C\" : [\"S\", \"F\", \"H\"], #Define the Node 'C' and the neighbors nodes (S, F and H)\n",
        "          \"D\" : [\"C\", \"E\"],      #Define the Node 'D' and the neighbors nodes (C, E)\n",
        "          \"E\" : [\"S\", \"G2\"],     #Define the Node 'E' and the neighbors nodes (S, G2)\n",
        "          \"F\" : [\"B\", \"G1\"],     #Define the Node 'F' and the neighbors nodes (B, G1)\n",
        "          \"H\" : [\"D\", \"G2\"],     #Define the Node 'H' and the neighbors nodes (D, G2)\n",
        "         \"G1\" : [],              #Define the Node 'G1'\n",
        "         \"G2\" : []}              #Define the Node 'G2'\n",
        "\n",
        "\n",
        "\n",
        "# Setting the path cost between each two nodes :\n",
        "path_cost={\n",
        "        \"SA\": 8,                #The path cost from S to A =8\n",
        "        \"SB\": 4,                #The path cost from S to B =4\n",
        "        \"CS\": 4,                #The path cost from C to S =4\n",
        "        \"SD\": 6,                #The path cost from S to D =6\n",
        "        \"AG1\": 9,               #The path cost from A to G1 =9\n",
        "        \"AB\": 3,                #The path cost from A to B =3\n",
        "        \"BC\": 3,                #The path cost from B to C =3\n",
        "        \"BA\": 5 ,               #The path cost from B to A =5\n",
        "        \"DC\": 5 ,               #The path cost from D to C =5\n",
        "        \"DE\": 3 ,               #The path cost from D to E =3\n",
        "        \"EG2\": 4,               #The path cost from E to G2 =4\n",
        "        \"ES\": 10,               #The path cost from E to S =10\n",
        "        \"CF\": 5,                #The path cost from C to F =5\n",
        "        \"CH\": 9,                #The path cost from C to H =9\n",
        "        \"HD\": 10,               #The path cost from H to D =10\n",
        "        \"HG2\":6,                #The path cost from H to G2 =6\n",
        "        \"FB\": 8 ,               #The path cost from F to B =8\n",
        "        \"FG1\":8 }               #The path cost from F to G1 =8\n",
        "# hueristic values for each state :\n",
        "Heuristic_value= { \n",
        "                  \"S\": 6,         #The heuristic value of S is 6\n",
        "                  \"A\": 4,         #The heuristic value of A is 4\n",
        "                  \"B\": 5,         #The heuristic value of B is 5\n",
        "                  \"C\": 6,         #The heuristic value of C is 6\n",
        "                  \"D\": 4,         #The heuristic value of D is 4\n",
        "                  \"E\": 6,         #The heuristic value of E is 6\n",
        "                  \"F\": 2,         #The heuristic value of F is 2\n",
        "                  \"H\": 3,         #The heuristic value of H is 3\n",
        "                  \"G1\": 0,        #The heuristic value of G1 is 0\n",
        "                  \"G2\": 0         #The heuristic value of G2 is 0\n",
        "} \n",
        "\n",
        "# Setting up the cost at every node equal to 0\n",
        "cost_so_far={\n",
        "        \"S\": 0,\n",
        "        \"A\": 0,\n",
        "        \"C\": 0,\n",
        "        \"B\": 0,\n",
        "        \"D\": 0,\n",
        "        \"E\": 0,\n",
        "        \"F\": 0, \n",
        "        \"H\": 0, \n",
        "        \"G1\": 0,\n",
        "        \"G2\": 0}\n",
        "## In order to track back our path we create this function :\n",
        "path={}\n",
        "def backtrack(current): \n",
        "  path[current]= visited_list[current] # We will populate the list with the total cost values we have stored in the visited_list\n",
        "  if current == \"S\": # until we reach the S state\n",
        "    return \n",
        "  backtrack(parents[current]) # The backtrack function will call itself and will retrieve the parent of each node from the dictionary parent.\n",
        "                  \n",
        "visited_list = {}        # Create a visited list in order to avoid repeated states once visitng a node \n",
        "agenda= {}               # Create an empty dict for the agenda            \n",
        "parents = {}             # storing the parents of the nodes\n",
        "\n",
        "agenda= initial_state    # Add the first node [S]  to the agenda\n",
        "while len(agenda) != []: # Check if agenda is not empty\n",
        "    # We search for the  node with the lowest( heuristic value + the path cost)\n",
        "    current  = min(agenda.keys(), key = (lambda k:agenda[k]))   # We add the lowest node to the current state so it can be  next visited \n",
        "    visited_list[current] = agenda[current]     # The current node that will be explored, is also added into the visted list in order to avoid repteated states\n",
        "    agenda.pop(current)                         # The current node is removed from the agenda\n",
        "    print (\"Current node\", current)\n",
        "            \n",
        "    if current in Final_states:  # check if the current node is a goal state then print found the goal by calculating the path and cost of the path\n",
        "        backtrack(current)\n",
        "        print(\"Found the goal {}!! with total path cost {}\".format (current, path[current]))\n",
        "        print(\"The path to the goal is\", path)\n",
        "        break\n",
        "    \n",
        "    print(\"The Next possible states of the current state {} are {}\".format (current, graph[current]))\n",
        "    # We now start exploring the associated states with the selected node(current state)\n",
        "    for next in graph[current]: \n",
        "        \n",
        "        if next in visited_list: #We check if the next possible states are not already visited \n",
        "           pass                  # If the next possible state exsit in the visited list we don't explore this state\n",
        "        else:\n",
        "            new_cost = path_cost[current+next]+cost_so_far[current] #We calculate the cost of the path (new cost) from S to the examined state.\\\n",
        "#The path cost until the node has been stored in the cost_so_far dictionary, so we just need to add the cost between the node and the new state\n",
        "            if (cost_so_far[next] ==0 or new_cost <= cost_so_far[next]): # If the examined state already has an associated cost, we will choose the minimum value.\n",
        "                cost_so_far [next] = new_cost\n",
        "                parents[next] = current # In the parents list we store the parent nodes for backtracking later\n",
        "                f_next = new_cost + Heuristic_value[next] #The total cost (f_next) is the sum of the heuristic cost and the path cost\n",
        "                agenda[next]=f_next # We add the next possible state into the agenda along with its cost\n",
        "    agenda= {k: v for k, v in sorted(agenda.items(), key=lambda item: item[1])} # we sort the agenda according to the state with the minimum cost.\n",
        "    print(\"AGENDA\", agenda )      \n",
        "print(\"Visited state\", visited_list)"
      ]
    },
    {
      "cell_type": "code",
      "execution_count": null,
      "metadata": {
        "id": "IDDExjksJtSE"
      },
      "outputs": [],
      "source": [
        ""
      ]
    },
    {
      "cell_type": "code",
      "execution_count": null,
      "metadata": {
        "id": "f1Ee8zxKJtSE"
      },
      "outputs": [],
      "source": [
        ""
      ]
    }
  ],
  "metadata": {
    "kernelspec": {
      "display_name": "Python 3",
      "language": "python",
      "name": "python3"
    },
    "language_info": {
      "codemirror_mode": {
        "name": "ipython",
        "version": 3
      },
      "file_extension": ".py",
      "mimetype": "text/x-python",
      "name": "python",
      "nbconvert_exporter": "python",
      "pygments_lexer": "ipython3",
      "version": "3.8.3"
    },
    "colab": {
      "name": "CS814_Maria_A*star.ipynb",
      "provenance": []
    }
  },
  "nbformat": 4,
  "nbformat_minor": 0
}